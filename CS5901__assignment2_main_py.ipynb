{
  "nbformat": 4,
  "nbformat_minor": 0,
  "metadata": {
    "colab": {
      "provenance": [],
      "authorship_tag": "ABX9TyPeA8i9SH3h3sgN4MwiwY6A",
      "include_colab_link": true
    },
    "kernelspec": {
      "name": "python3",
      "display_name": "Python 3"
    },
    "language_info": {
      "name": "python"
    }
  },
  "cells": [
    {
      "cell_type": "markdown",
      "metadata": {
        "id": "view-in-github",
        "colab_type": "text"
      },
      "source": [
        "<a href=\"https://colab.research.google.com/github/jsp289/CS5901_Assignment2/blob/main/CS5901__assignment2_main_py.ipynb\" target=\"_parent\"><img src=\"https://colab.research.google.com/assets/colab-badge.svg\" alt=\"Open In Colab\"/></a>"
      ]
    },
    {
      "cell_type": "markdown",
      "source": [
        "# **CS5901 - Assignment 2 - Main Function**\n",
        "*This .py file coordinates function calls for the following with GitHub version control:*\n",
        "\n",
        "1.   Stage 1 - Loading CSV into Pandas DataFrame, Cleaning Data, and Basic Stats\n",
        "2.   Stage 2 - Calculating the Space-Time Complexity of Several Algorithms\n",
        "\n",
        "---\n",
        "\n",
        "\n"
      ],
      "metadata": {
        "id": "yyGrduo8mr7Z"
      }
    },
    {
      "cell_type": "code",
      "source": [
        "from git_utils import init_repo, commit_changes, get_git_log #other py file for GitHub repo ops\n",
        "from CS5901__assignment2_stage1_1_data_cleaning_py import import_data, remove_nonsensical_rows, replace_missing_values, calculate_stats, duplicate_rows # Stage 1 - Load CSV and Clean Data\n",
        "from CS5901__assignment2_stage2_time_space_complexity_py import complexity_analysis #Stage 2 - Complexity_analysis\n",
        "\n",
        "\n",
        "def run_demo(file_path, github_url = None):\n",
        "    \"\"\"\n",
        "    Executes Stages 1 & 2 of the Demo module with GitHub version control\n",
        "\n",
        "    Args:\n",
        "      file_path (str): url to the csv file\n",
        "      github_url (str): url to the GitHub repo for remote version control\n",
        "\n",
        "    Returns:\n",
        "      dict: results of stages 1 & 2 with associated commit messages\n",
        "    \"\"\"\n",
        "\n",
        "    # Working Directory of File_Path\n",
        "    working_dir = os.path.dirname(os.path.abspath(file_path))\n",
        "from git_utils import init_repo, commit_changes, get_git_log\n",
        "from CS5901__assignment2_stage1_1_data_cleaning_py import import_data, remove_nonsensical_rows, replace_missing_values, calculate_stats, duplicate_rows # Stage 1 - Load CSV and Clean Data\n",
        "from CS5901__assignment2_stage2_time_space_complexity_py import complexity_analysis #Stage 2 - Complexity_analysis\n",
        "import os\n",
        "\n",
        "def run_demo(file_path, github_url = None):\n",
        "    \"\"\"\n",
        "    Executes Stages 1 & 2 of the Demo module with GitHub version control\n",
        "\n",
        "    Args:\n",
        "      file_path (str): url to the csv file\n",
        "      github_url (str): url to the GitHub repo for remote version control\n",
        "\n",
        "    Returns:\n",
        "      dict: results of stages 1 & 2 with associated commit messages\n",
        "    \"\"\"\n",
        "\n",
        "    # Working Directory of File_Path\n",
        "    working_dir = os.path.dirname(os.path.abspath(file_path))\n",
        "\n",
        "    # Stage 0: Initiate git repo with GitHub remote\n",
        "    init_repo(working_dir, github_url)\n",
        "    if github_url:\n",
        "      commit_changes(working_dir,\"Initial Commit\")\n",
        "\n",
        "    #Get version control history\n",
        "    git_log = get_git_log(working_dir)\n",
        "\n",
        "    #Stage 1: Loading CSV and Cleaning Data\n",
        "    df = import_data(file_path)\n",
        "    commit_changes(working_dir,\"Stage 1.1 - Data Loaded in Pandas DataFrame\")\n",
        "\n",
        "    df = remove_nonsensical_rows(df)\n",
        "    commit_changes(working_dir,\"Stage 1.2 - Removed Non-sensical Rows\")\n",
        "\n",
        "    df = replace_missing_values(df)\n",
        "    commit_changes(working_dir,\"Stage 1.3 - Replaced Missing Values\")\n",
        "\n",
        "    calculate_stats(df)\n",
        "    commit_changes(working_dir,\"Stage 1.4 - Calculated Basic Stats\")\n",
        "\n",
        "    duplicate_rows(df)\n",
        "    commit_changes(working_dir,\"Stage 1.5 - Removed Duplicate Rows\")\n",
        "\n",
        "    #Stage 2: Space & Time Complexity Analysis\n",
        "    complexity_results, sizes = complexity_analysis()\n",
        "    commit_changes(working_dir,\"Stage 2 - Space & Time Complexity Analysis Done\")\n",
        "\n",
        "    #Get version control history\n",
        "    git_log = get_git_log(working_dir)\n",
        "\n",
        "    #Return results\n",
        "\n",
        "    return {\n",
        "        \"clean_data\": df_filled,\n",
        "        \"manual_stats\": manual_stats,\n",
        "        \"pandas_stats\": pd_stats,\n",
        "        \"duplicates\": (duplicate_data,df_filled_no_duplicates),\n",
        "        \"complexity_results\": (complexity_results,sizes),\n",
        "        \"git_log\": git_log,\n",
        "    }\n",
        "\n",
        "if __name__ == \"__main__\":\n",
        "  results = run_demo('P2data6332.csv')\n",
        "  #Verification output\n",
        "  print(\"Data loaded and cleaned successfully.\")\n",
        "  print(f\"Duplicates: {results['duplicates']}\")\n",
        "  print(f\"Manual Stats: {results['manual_stats']}\")\n",
        "  print(f\"Pandas Stats: {results['pandas_stats']}\")\n",
        "  print(f\"Complexity Results: {results['complexity_results']}\")\n"
      ],
      "metadata": {
        "id": "0kF3p_VZnjSi",
        "colab": {
          "base_uri": "https://localhost:8080/",
          "height": 437
        },
        "outputId": "f971abdc-3920-47cf-f066-315bd634045e"
      },
      "execution_count": 12,
      "outputs": [
        {
          "output_type": "error",
          "ename": "ModuleNotFoundError",
          "evalue": "No module named 'git_utils'",
          "traceback": [
            "\u001b[0;31m---------------------------------------------------------------------------\u001b[0m",
            "\u001b[0;31mModuleNotFoundError\u001b[0m                       Traceback (most recent call last)",
            "\u001b[0;32m<ipython-input-12-ce36f70b12f3>\u001b[0m in \u001b[0;36m<cell line: 0>\u001b[0;34m()\u001b[0m\n\u001b[0;32m----> 1\u001b[0;31m \u001b[0;32mfrom\u001b[0m \u001b[0mgit_utils\u001b[0m \u001b[0;32mimport\u001b[0m \u001b[0minit_repo\u001b[0m\u001b[0;34m,\u001b[0m \u001b[0mcommit_changes\u001b[0m\u001b[0;34m,\u001b[0m \u001b[0mget_git_log\u001b[0m\u001b[0;34m\u001b[0m\u001b[0;34m\u001b[0m\u001b[0m\n\u001b[0m\u001b[1;32m      2\u001b[0m \u001b[0;32mfrom\u001b[0m \u001b[0mCS5901__assignment2_stage1_1_data_cleaning_py\u001b[0m \u001b[0;32mimport\u001b[0m \u001b[0mimport_data\u001b[0m\u001b[0;34m,\u001b[0m \u001b[0mremove_nonsensical_rows\u001b[0m\u001b[0;34m,\u001b[0m \u001b[0mreplace_missing_values\u001b[0m\u001b[0;34m,\u001b[0m \u001b[0mcalculate_stats\u001b[0m\u001b[0;34m,\u001b[0m \u001b[0mduplicate_rows\u001b[0m \u001b[0;31m# Stage 1 - Load CSV and Clean Data\u001b[0m\u001b[0;34m\u001b[0m\u001b[0;34m\u001b[0m\u001b[0m\n\u001b[1;32m      3\u001b[0m \u001b[0;32mfrom\u001b[0m \u001b[0mCS5901__assignment2_stage2_time_space_complexity_py\u001b[0m \u001b[0;32mimport\u001b[0m \u001b[0mcomplexity_analysis\u001b[0m \u001b[0;31m#Stage 2 - Complexity_analysis\u001b[0m\u001b[0;34m\u001b[0m\u001b[0;34m\u001b[0m\u001b[0m\n\u001b[1;32m      4\u001b[0m \u001b[0;34m\u001b[0m\u001b[0m\n\u001b[1;32m      5\u001b[0m \u001b[0;34m\u001b[0m\u001b[0m\n",
            "\u001b[0;31mModuleNotFoundError\u001b[0m: No module named 'git_utils'",
            "",
            "\u001b[0;31m---------------------------------------------------------------------------\u001b[0;32m\nNOTE: If your import is failing due to a missing package, you can\nmanually install dependencies using either !pip or !apt.\n\nTo view examples of installing some common dependencies, click the\n\"Open Examples\" button below.\n\u001b[0;31m---------------------------------------------------------------------------\u001b[0m\n"
          ],
          "errorDetails": {
            "actions": [
              {
                "action": "open_url",
                "actionText": "Open Examples",
                "url": "/notebooks/snippets/importing_libraries.ipynb"
              }
            ]
          }
        }
      ]
    },
    {
      "cell_type": "code",
      "source": [],
      "metadata": {
        "id": "NIfCXluAvOu0"
      },
      "execution_count": null,
      "outputs": []
    }
  ]
}