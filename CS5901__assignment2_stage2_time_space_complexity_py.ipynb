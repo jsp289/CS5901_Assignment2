{
  "nbformat": 4,
  "nbformat_minor": 0,
  "metadata": {
    "colab": {
      "provenance": [],
      "authorship_tag": "ABX9TyNQj5sKw/UyQ+2xmP1cCj1p",
      "include_colab_link": true
    },
    "kernelspec": {
      "name": "python3",
      "display_name": "Python 3"
    },
    "language_info": {
      "name": "python"
    }
  },
  "cells": [
    {
      "cell_type": "markdown",
      "metadata": {
        "id": "view-in-github",
        "colab_type": "text"
      },
      "source": [
        "<a href=\"https://colab.research.google.com/github/jsp289/CS5901_Assignment2/blob/main/CS5901__assignment2_stage2_time_space_complexity_py.ipynb\" target=\"_parent\"><img src=\"https://colab.research.google.com/assets/colab-badge.svg\" alt=\"Open In Colab\"/></a>"
      ]
    },
    {
      "cell_type": "markdown",
      "source": [
        "# **CS5901 - Assignment 2 - Stage 2**\n",
        "*This .py file provides functions to calculate the time and space complexity for:*\n",
        "\n",
        "1.   Standard Matrix Multiplication\n",
        "2.   Unordered List of Integers\n",
        "3.   Substring Find() Method vs. Loop italicized text\n",
        "\n",
        "---\n",
        "\n",
        "\n",
        "\n",
        "\n",
        "\n",
        "\n",
        "\n"
      ],
      "metadata": {
        "id": "Gtq8yvvBADhr"
      }
    },
    {
      "cell_type": "markdown",
      "source": [
        "### **Stage 2.1** - Standard Matrix Multiplication Space-Time Complexity\n",
        "*Here we multiply a random integer matrix by a random float matrix of increasing size and compare their time and space complexities using a scatter plot.*"
      ],
      "metadata": {
        "id": "g-nyQ4zuBZA1"
      }
    },
    {
      "cell_type": "code",
      "source": [
        "#Import all libraries required for space-time complexity analysis\n",
        "import numpy as np\n",
        "import matplotlib.pyplot as plt\n",
        "import time\n",
        "import gc\n",
        "import psutil\n",
        "import os\n",
        "import sys\n",
        "import string\n",
        "import random\n",
        "\n",
        "def matrix_multiplication(size):\n",
        "  \"\"\"\n",
        "  This function identifies multiplies 2 square matrices and computes space and time required to compute.\n",
        "\n",
        "  Args:\n",
        "    size (int): size of the square matrix\n",
        "  Returns:\n",
        "    run_time (float): time required to compute\n",
        "    mem_usage (float): space required to compute\n",
        "  \"\"\"\n",
        "  #Initiate random integer matrices\n",
        "  A = np.random.randint(1, 50000, size=(size, size))\n",
        "  B = np.random.randint(1, 50000, size=(size, size))\n",
        "\n",
        "  # Initiate space & time baselines\n",
        "  start_time = time.time()\n",
        "  process = psutil.Process(os.getpid())\n",
        "  base_mem = process.memory_info().rss\n",
        "\n",
        "  # Matrix multiplication\n",
        "  final_mat = np.dot(A, B)\n",
        "\n",
        "  #Compute running time and memory usage\n",
        "  end_time = time.time()\n",
        "  mem_usage = process.memory_info().rss - base_mem\n",
        "  run_time = end_time - start_time\n",
        "\n",
        "  return run_time, mem_usage\n",
        "print(matrix_multiplication(400))"
      ],
      "metadata": {
        "colab": {
          "base_uri": "https://localhost:8080/"
        },
        "id": "ydSnRLOpKlP-",
        "outputId": "3d85a8b2-9a67-443f-8b75-5e66df5c636c"
      },
      "execution_count": 5,
      "outputs": [
        {
          "output_type": "stream",
          "name": "stdout",
          "text": [
            "(0.09247946739196777, 1081344)\n"
          ]
        }
      ]
    },
    {
      "cell_type": "markdown",
      "source": [
        "### **Stage 2.2** - Ordering Integers\n",
        "*Here we have a matrix of unordered integers, we flatten it, sort the elements from smallest to largest, and compute the space and time complexity of the sorting process*"
      ],
      "metadata": {
        "id": "L8IyFSbv4HAt"
      }
    },
    {
      "cell_type": "code",
      "source": [
        "def inneficient_integer_sort(size):\n",
        "  \"\"\"\n",
        "  This function generates a random matrix of integers, stores it in a list, and sorts them in ascending order.\n",
        "\n",
        "  Args:\n",
        "    size (int): size of the square matrix\n",
        "  Returns:\n",
        "    run_time (float): time required to compute\n",
        "    mem_usage (float): space required to compute\n",
        "  \"\"\"\n",
        "  #Generate random matrix and store in list\n",
        "  lst_rand_ints = np.random.randint(1,50000,size).tolist()\n",
        "  start = time.time()\n",
        "  process = psutil.Process(os.getpid())\n",
        "  base_mem = process.memory_info().rss\n",
        "\n",
        "  #Inneficient sort\n",
        "  sorted_lst_rand_ints = []\n",
        "  while lst_rand_ints:\n",
        "    min = lst_rand_ints[0]\n",
        "    for rand_int in lst_rand_ints:\n",
        "      if rand_int < min:\n",
        "        min = rand_int\n",
        "    sorted_lst_rand_ints.append(min)\n",
        "    lst_rand_ints.remove(min)\n",
        "\n",
        "  #Compute space and time complexity of inneficient sort\n",
        "  end = time.time()\n",
        "  mem_usage = process.memory_info().rss - base_mem\n",
        "  run_time = end - start\n",
        "\n",
        "  return run_time, mem_usage\n",
        "print(inneficient_integer_sort(5000))"
      ],
      "metadata": {
        "colab": {
          "base_uri": "https://localhost:8080/"
        },
        "id": "IKESAOGX5G_t",
        "outputId": "56fc0879-a458-4191-ac81-12af00ef30c2"
      },
      "execution_count": 6,
      "outputs": [
        {
          "output_type": "stream",
          "name": "stdout",
          "text": [
            "(0.341522216796875, 0)\n"
          ]
        }
      ]
    },
    {
      "cell_type": "markdown",
      "source": [
        "### **Stage 2.3** - String Find Method vs Manual Method\n",
        "*Here we generate a random string and compare the space-time complexity of manual sort vs the string.find() method*"
      ],
      "metadata": {
        "id": "QHd1yJ0u96ji"
      }
    },
    {
      "cell_type": "code",
      "source": [
        "def string_search_comparison(text,char):\n",
        "  \"\"\"\n",
        "  This function compares time of manual string search vs the string.find() method\n",
        "\n",
        "  Args:\n",
        "    text (str): a random string\n",
        "    char (str): a random character or substring\n",
        "  Returns:\n",
        "    str_find_time (float): time required to compute string.find() method\n",
        "    manual_find_time (float): time required to compute manual search\n",
        "\n",
        "  \"\"\"\n",
        "  # Str.find() time\n",
        "  start_find = time.time()\n",
        "  find_result = text.find(char)\n",
        "  end_find = time.time()\n",
        "  str_find_time = end_find - start_find\n",
        "\n",
        "  # Manual search time (the loop breaks when it finds the substring)\n",
        "  start_manual = time.time()\n",
        "  manual_count = -1\n",
        "  for i in range(len(text)-len(char)+1):\n",
        "    if text[i:i + len(char)] == char:\n",
        "      manual_count =1\n",
        "      break\n",
        "  end_manual = time.time()\n",
        "  manual_find_time = end_manual - start_manual\n",
        "\n",
        "  return str_find_time, manual_find_time\n",
        "\n",
        "\n",
        "text = \"a\" * 10000 + \"b\" + \"ab\" * 10000\n",
        "char = \"ab\"\n",
        "find_t, manual_t = string_search_comparison(text, char)\n",
        "print(f\"String.find() method time: {find_t}\")\n",
        "print(f\"Manual search time: {manual_t}\")\n",
        "\n",
        "\n",
        "\n"
      ],
      "metadata": {
        "colab": {
          "base_uri": "https://localhost:8080/"
        },
        "id": "ZO4U-nhU_y__",
        "outputId": "b40911b8-a81b-48e2-b752-a7051a01761d"
      },
      "execution_count": 7,
      "outputs": [
        {
          "output_type": "stream",
          "name": "stdout",
          "text": [
            "String.find() method time: 1.239776611328125e-05\n",
            "Manual search time: 0.0013637542724609375\n"
          ]
        }
      ]
    }
  ]
}