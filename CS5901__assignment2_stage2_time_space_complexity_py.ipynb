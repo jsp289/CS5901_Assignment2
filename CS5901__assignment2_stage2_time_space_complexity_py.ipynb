{
  "nbformat": 4,
  "nbformat_minor": 0,
  "metadata": {
    "colab": {
      "provenance": [],
      "collapsed_sections": [
        "g-nyQ4zuBZA1",
        "L8IyFSbv4HAt",
        "QHd1yJ0u96ji",
        "G_gREaTJuIpX"
      ],
      "authorship_tag": "ABX9TyPZP0h1Bo5r+zD33/xwRmG/",
      "include_colab_link": true
    },
    "kernelspec": {
      "name": "python3",
      "display_name": "Python 3"
    },
    "language_info": {
      "name": "python"
    }
  },
  "cells": [
    {
      "cell_type": "markdown",
      "metadata": {
        "id": "view-in-github",
        "colab_type": "text"
      },
      "source": [
        "<a href=\"https://colab.research.google.com/github/jsp289/CS5901_Assignment2/blob/main/CS5901__assignment2_stage2_time_space_complexity_py.ipynb\" target=\"_parent\"><img src=\"https://colab.research.google.com/assets/colab-badge.svg\" alt=\"Open In Colab\"/></a>"
      ]
    },
    {
      "cell_type": "markdown",
      "source": [
        "# **CS5901 - Assignment 2 - Stage 2**\n",
        "*This .py file provides functions to calculate the time and space complexity for:*\n",
        "\n",
        "1.   Standard Matrix Multiplication\n",
        "2.   Unordered List of Integers\n",
        "3.   Substring Find() Method vs. Loop italicized text\n",
        "\n",
        "---\n",
        "\n",
        "\n",
        "\n",
        "\n",
        "\n",
        "\n",
        "\n"
      ],
      "metadata": {
        "id": "Gtq8yvvBADhr"
      }
    },
    {
      "cell_type": "markdown",
      "source": [
        "### **Stage 2.1** - Standard Matrix Multiplication Space-Time Complexity\n",
        "*Here we multiply a random integer matrix by a random float matrix of increasing size and compare their time and space complexities using a scatter plot.*"
      ],
      "metadata": {
        "id": "g-nyQ4zuBZA1"
      }
    },
    {
      "cell_type": "code",
      "source": [
        "#Import all libraries required for space-time complexity analysis\n",
        "import numpy as np\n",
        "import matplotlib.pyplot as plt\n",
        "import time\n",
        "import gc\n",
        "import psutil\n",
        "import os\n",
        "import sys\n",
        "import string\n",
        "import random\n",
        "\n",
        "def matrix_multiplication(size):\n",
        "  \"\"\"\n",
        "  This function identifies multiplies 2 square matrices and computes space and time required to compute.\n",
        "\n",
        "  Args:\n",
        "    size (int): size of the square matrix\n",
        "  Returns:\n",
        "    run_time (float): time required to compute\n",
        "    mem_usage (float): space required to compute\n",
        "  \"\"\"\n",
        "  #Initiate random integer matrices\n",
        "  A = np.random.randint(1, 50000, size=(size, size))\n",
        "  B = np.random.randint(1, 50000, size=(size, size))\n",
        "\n",
        "  # Initiate space & time baselines\n",
        "  start_time = time.time()\n",
        "  process = psutil.Process(os.getpid())\n",
        "  base_mem = process.memory_info().rss\n",
        "\n",
        "  # Matrix multiplication\n",
        "  final_mat = np.dot(A, B)\n",
        "\n",
        "  #Compute running time and memory usage\n",
        "  end_time = time.time()\n",
        "  mem_usage = process.memory_info().rss - base_mem\n",
        "  run_time = end_time - start_time\n",
        "\n",
        "  return run_time, mem_usage\n",
        "print(matrix_multiplication(400))"
      ],
      "metadata": {
        "colab": {
          "base_uri": "https://localhost:8080/"
        },
        "id": "ydSnRLOpKlP-",
        "outputId": "529a347d-d470-485c-fc52-667ba37a8a6a"
      },
      "execution_count": 15,
      "outputs": [
        {
          "output_type": "stream",
          "name": "stdout",
          "text": [
            "(0.09253406524658203, 1081344)\n"
          ]
        }
      ]
    },
    {
      "cell_type": "markdown",
      "source": [
        "### **Stage 2.2** - Ordering Integers\n",
        "*Here we have a matrix of unordered integers, we flatten it, sort the elements from smallest to largest, and compute the space and time complexity of the sorting process*"
      ],
      "metadata": {
        "id": "L8IyFSbv4HAt"
      }
    },
    {
      "cell_type": "code",
      "source": [
        "def inneficient_integer_sort(size):\n",
        "  \"\"\"\n",
        "  This function generates a random matrix of integers, stores it in a list, and sorts them in ascending order.\n",
        "\n",
        "  Args:\n",
        "    size (int): size of the square matrix\n",
        "  Returns:\n",
        "    run_time (float): time required to compute\n",
        "    mem_usage (float): space required to compute\n",
        "  \"\"\"\n",
        "  #Generate random matrix and store in list\n",
        "  lst_rand_ints = np.random.randint(1,50000,size).tolist()\n",
        "  start = time.time()\n",
        "  process = psutil.Process(os.getpid())\n",
        "  base_mem = process.memory_info().rss\n",
        "\n",
        "  #Inneficient sort\n",
        "  sorted_lst_rand_ints = []\n",
        "  while lst_rand_ints:\n",
        "    min = lst_rand_ints[0]\n",
        "    for rand_int in lst_rand_ints:\n",
        "      if rand_int < min:\n",
        "        min = rand_int\n",
        "    sorted_lst_rand_ints.append(min)\n",
        "    lst_rand_ints.remove(min)\n",
        "\n",
        "  #Compute space and time complexity of inneficient sort\n",
        "  end = time.time()\n",
        "  mem_usage = process.memory_info().rss - base_mem\n",
        "  run_time = end - start\n",
        "\n",
        "  return run_time, mem_usage\n",
        "print(inneficient_integer_sort(5000))"
      ],
      "metadata": {
        "colab": {
          "base_uri": "https://localhost:8080/"
        },
        "id": "IKESAOGX5G_t",
        "outputId": "53924559-ccb7-4b07-ee13-ba3cdb8a3373"
      },
      "execution_count": 16,
      "outputs": [
        {
          "output_type": "stream",
          "name": "stdout",
          "text": [
            "(0.36061525344848633, 0)\n"
          ]
        }
      ]
    },
    {
      "cell_type": "markdown",
      "source": [
        "### **Stage 2.3** - String Find Method vs Manual Method\n",
        "*Here we generate a random string and compare the space-time complexity of manual sort vs the string.find() method*"
      ],
      "metadata": {
        "id": "QHd1yJ0u96ji"
      }
    },
    {
      "cell_type": "code",
      "source": [
        "def string_search_comparison(text,char):\n",
        "  \"\"\"\n",
        "  This function compares time of manual string search vs the string.find() method\n",
        "\n",
        "  Args:\n",
        "    text (str): a random string\n",
        "    char (str): a random character or substring\n",
        "  Returns:\n",
        "    str_find_time (float): time required to compute string.find() method\n",
        "    manual_find_time (float): time required to compute manual search\n",
        "\n",
        "  \"\"\"\n",
        "  # Str.find() time\n",
        "  start_find = time.time()\n",
        "  find_result = text.find(char)\n",
        "  end_find = time.time()\n",
        "  str_find_time = end_find - start_find\n",
        "\n",
        "  # Manual search time (the loop breaks when it finds the substring)\n",
        "  start_manual = time.time()\n",
        "  manual_count = -1\n",
        "  for i in range(len(text)-len(char)+1):\n",
        "    if text[i:i + len(char)] == char:\n",
        "      manual_count =1\n",
        "      break\n",
        "  end_manual = time.time()\n",
        "  manual_find_time = end_manual - start_manual\n",
        "\n",
        "  return str_find_time, manual_find_time\n",
        "\n",
        "\n",
        "text = \"a\" * 10000 + \"b\" + \"ab\" * 10000\n",
        "char = \"ab\"\n",
        "find_t, manual_t = string_search_comparison(text, char)\n",
        "print(f\"String.find() method time: {find_t}\")\n",
        "print(f\"Manual search time: {manual_t}\")\n",
        "\n",
        "\n",
        "\n"
      ],
      "metadata": {
        "colab": {
          "base_uri": "https://localhost:8080/"
        },
        "id": "ZO4U-nhU_y__",
        "outputId": "f056730c-1270-4c56-fdc5-30590617d109"
      },
      "execution_count": 17,
      "outputs": [
        {
          "output_type": "stream",
          "name": "stdout",
          "text": [
            "String.find() method time: 1.4066696166992188e-05\n",
            "Manual search time: 0.0013828277587890625\n"
          ]
        }
      ]
    },
    {
      "cell_type": "markdown",
      "source": [
        "### **Stage 2.4** - Summary Analysis\n",
        "*Here we analyze the space-time complexity for all algorithms implemented for stages 2.1 to 2.3*"
      ],
      "metadata": {
        "id": "G_gREaTJuIpX"
      }
    },
    {
      "cell_type": "code",
      "source": [
        "import matplotlib.pyplot as plt\n",
        "\n",
        "def complexity_analysis(sizes=[100,500,1000]):\n",
        "  \"\"\"\n",
        "  This function compares time of manual string search vs the string.find() method\n",
        "\n",
        "  Args:\n",
        "    sizes (lst): a list of input sizes for testing\n",
        "\n",
        "  Returns:\n",
        "    tuple (results_dict, sizes_tested)\n",
        "\n",
        "  \"\"\"\n",
        "  #Initiate dictionary to store test results\n",
        "\n",
        "  results = {'matrix_mult':{'time':[],'space':[]},\n",
        "             'integer_sort':{'time':[],'space':[]}}\n",
        "\n",
        "  for size in sizes:\n",
        "    #clear memory before each test\n",
        "    gc.collect()\n",
        "\n",
        "    #test for matrix multiplixation\n",
        "    t,s = matrix_multiplication(size)\n",
        "    results['matrix_mult']['time'].append(t)\n",
        "    results['matrix_mult']['space'].append(s)\n",
        "\n",
        "    #test for inneficient integer sort\n",
        "    t,s = inneficient_integer_sort(size)\n",
        "    results['integer_sort']['time'].append(t)\n",
        "    results['integer_sort']['space'].append(s)\n",
        "\n",
        "  #test for string search\n",
        "  text = \"a\" * 10000 + \"b\" + \"ab\" * 10000\n",
        "  char = \"ab\"\n",
        "  str_find_time, manual_find_time = string_search_comparison(text, char)\n",
        "  results['string_search'] = {'time':[str_find_time, manual_find_time]}\n",
        "\n",
        "  return results, sizes\n",
        "\n",
        "# Call and print results\n",
        "results, sizes = complexity_analysis(sizes=[100, 500, 1000])\n",
        "print(\"\\nComplexity Analysis Results:\")\n",
        "for algorithm, data in results.items():\n",
        "    print(f\"\\n{algorithm}:\")\n",
        "    for metric, values in data.items():\n",
        "        print(f\"  {metric}: {values}\")\n",
        "print(\"\\nSizes Tested:\", sizes)\n",
        "\n",
        "# Create scatter plots\n",
        "fig, (ax1, ax2) = plt.subplots(1, 2, figsize=(12, 6))  # 1 row, 2 columns\n",
        "\n",
        "# Time Complexity Plot\n",
        "ax1.scatter(sizes, results['matrix_mult']['time'], label='Matrix Multiplication')\n",
        "ax1.scatter(sizes, results['integer_sort']['time'], label='Integer Sort')\n",
        "ax1.set_xlabel('Input Size')\n",
        "ax1.set_ylabel('Time (seconds)')\n",
        "ax1.set_title('Time Complexity')\n",
        "ax1.legend()\n",
        "\n",
        "# Space Complexity Plot\n",
        "ax2.scatter(sizes, results['matrix_mult']['space'], label='Matrix Multiplication')\n",
        "ax2.scatter(sizes, results['integer_sort']['space'], label='Integer Sort')\n",
        "ax2.set_xlabel('Input Size')\n",
        "ax2.set_ylabel('Space (bytes)')\n",
        "ax2.set_title('Space Complexity')\n",
        "ax2.legend()\n",
        "\n",
        "plt.tight_layout()\n",
        "plt.show()\n",
        "\n"
      ],
      "metadata": {
        "id": "kKbDsB5Kvq_u",
        "colab": {
          "base_uri": "https://localhost:8080/",
          "height": 867
        },
        "outputId": "d8dee9b0-62ee-4408-8a97-09402670d3ea"
      },
      "execution_count": 23,
      "outputs": [
        {
          "output_type": "stream",
          "name": "stdout",
          "text": [
            "\n",
            "Complexity Analysis Results:\n",
            "\n",
            "matrix_mult:\n",
            "  time: [0.001956939697265625, 0.17147326469421387, 1.5165514945983887]\n",
            "  space: [0, 1884160, 7892992]\n",
            "\n",
            "integer_sort:\n",
            "  time: [0.00028705596923828125, 0.003908634185791016, 0.01636672019958496]\n",
            "  space: [0, 0, 0]\n",
            "\n",
            "string_search:\n",
            "  time: [1.2636184692382812e-05, 0.0014050006866455078]\n",
            "\n",
            "Sizes Tested: [100, 500, 1000]\n"
          ]
        },
        {
          "output_type": "display_data",
          "data": {
            "text/plain": [
              "<Figure size 1200x600 with 2 Axes>"
            ],
            "image/png": "[encoded data removed]"
          },
          "metadata": {}
        }
      ]
    },
    {
      "cell_type": "code",
      "source": [],
      "metadata": {
        "id": "dINMOGRifsM-"
      },
      "execution_count": null,
      "outputs": []
    }
  ]
}