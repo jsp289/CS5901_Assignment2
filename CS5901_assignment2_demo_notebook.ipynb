{
  "nbformat": 4,
  "nbformat_minor": 0,
  "metadata": {
    "colab": {
      "provenance": [],
      "authorship_tag": "ABX9TyNANxtO9Q7C5wtGfrmhgr+v",
      "include_colab_link": true
    },
    "kernelspec": {
      "name": "python3",
      "display_name": "Python 3"
    },
    "language_info": {
      "name": "python"
    }
  },
  "cells": [
    {
      "cell_type": "markdown",
      "metadata": {
        "id": "view-in-github",
        "colab_type": "text"
      },
      "source": [
        "<a href=\"https://colab.research.google.com/github/jsp289/CS5901_Assignment2/blob/main/CS5901_assignment2_demo_notebook.ipynb\" target=\"_parent\"><img src=\"https://colab.research.google.com/assets/colab-badge.svg\" alt=\"Open In Colab\"/></a>"
      ]
    },
    {
      "cell_type": "markdown",
      "source": [
        "# **CS5901 - Assignment 2 - Notebook for Demo**\n",
        "*This demo_notebook.ipynb file coordinates function calls by invoking the main_function.py file for the following stages with GitHub version control:*\n",
        "\n",
        "1.   Stage 0 - Version Control and Fetching GitHub Commit Log\n",
        "2.   Stage 1 - Loading CSV into Pandas DataFrame, Cleaning Data, and Basic Stats\n",
        "3.   Stage 2 - Calculating the Space-Time Complexity of Several Algorithms"
      ],
      "metadata": {
        "id": "lHXNm_d0aM2s"
      }
    },
    {
      "cell_type": "code",
      "source": [
        "from CS5901_assignment2_main_py import run_demo # main function coordinating stages 0-2\n",
        "import matplotlib.pyplot as plt\n",
        "\n",
        "# Credentials for GitHib Commit History Retrieval\n",
        "github_owner = \"jsp289\"\n",
        "github_repo = \"jsp289/CS5901_Assignment2\"\n",
        "github_token = None # Replace with personal token if necessary\n",
        "results = run_demo('https://raw.githubusercontent.com/jsp289/CS5901_Assignment2/refs/heads/main/P2data6332.csv',github_owner, github_repo, github_token)"
      ],
      "metadata": {
        "colab": {
          "base_uri": "https://localhost:8080/",
          "height": 384
        },
        "id": "poi5JlxCarpw",
        "outputId": "72d3bef0-0741-4fd4-df4e-4c955e002221"
      },
      "execution_count": 4,
      "outputs": [
        {
          "output_type": "error",
          "ename": "ModuleNotFoundError",
          "evalue": "No module named 'CS5901_assignment2_main_py'",
          "traceback": [
            "\u001b[0;31m---------------------------------------------------------------------------\u001b[0m",
            "\u001b[0;31mModuleNotFoundError\u001b[0m                       Traceback (most recent call last)",
            "\u001b[0;32m<ipython-input-4-d4fded67664e>\u001b[0m in \u001b[0;36m<cell line: 0>\u001b[0;34m()\u001b[0m\n\u001b[0;32m----> 1\u001b[0;31m \u001b[0;32mfrom\u001b[0m \u001b[0mCS5901_assignment2_main_py\u001b[0m \u001b[0;32mimport\u001b[0m \u001b[0mrun_demo\u001b[0m \u001b[0;31m# main function coordinating stages 0-2\u001b[0m\u001b[0;34m\u001b[0m\u001b[0;34m\u001b[0m\u001b[0m\n\u001b[0m\u001b[1;32m      2\u001b[0m \u001b[0;32mimport\u001b[0m \u001b[0mmatplotlib\u001b[0m\u001b[0;34m.\u001b[0m\u001b[0mpyplot\u001b[0m \u001b[0;32mas\u001b[0m \u001b[0mplt\u001b[0m\u001b[0;34m\u001b[0m\u001b[0;34m\u001b[0m\u001b[0m\n\u001b[1;32m      3\u001b[0m \u001b[0;34m\u001b[0m\u001b[0m\n\u001b[1;32m      4\u001b[0m \u001b[0;31m# Credentials for GitHib Commit History Retrieval\u001b[0m\u001b[0;34m\u001b[0m\u001b[0;34m\u001b[0m\u001b[0m\n\u001b[1;32m      5\u001b[0m \u001b[0mgithub_owner\u001b[0m \u001b[0;34m=\u001b[0m \u001b[0;34m\"jsp289\"\u001b[0m\u001b[0;34m\u001b[0m\u001b[0;34m\u001b[0m\u001b[0m\n",
            "\u001b[0;31mModuleNotFoundError\u001b[0m: No module named 'CS5901_assignment2_main_py'",
            "",
            "\u001b[0;31m---------------------------------------------------------------------------\u001b[0;32m\nNOTE: If your import is failing due to a missing package, you can\nmanually install dependencies using either !pip or !apt.\n\nTo view examples of installing some common dependencies, click the\n\"Open Examples\" button below.\n\u001b[0;31m---------------------------------------------------------------------------\u001b[0m\n"
          ],
          "errorDetails": {
            "actions": [
              {
                "action": "open_url",
                "actionText": "Open Examples",
                "url": "/notebooks/snippets/importing_libraries.ipynb"
              }
            ]
          }
        }
      ]
    },
    {
      "cell_type": "markdown",
      "source": [
        "###Stage 0 - Version Control & GitHub Commit Log\n",
        "\n"
      ],
      "metadata": {
        "id": "ss6q_9ordcGI"
      }
    },
    {
      "cell_type": "code",
      "source": [
        "print(\"GitHub Commit Log:\")\n",
        "print(results['git_log'])"
      ],
      "metadata": {
        "id": "E54Tc39ed5dL",
        "colab": {
          "base_uri": "https://localhost:8080/",
          "height": 176
        },
        "outputId": "c04d1715-2bb3-422b-8431-bd87622885da"
      },
      "execution_count": 3,
      "outputs": [
        {
          "output_type": "stream",
          "name": "stdout",
          "text": [
            "GitHub Commit Log:\n"
          ]
        },
        {
          "output_type": "error",
          "ename": "NameError",
          "evalue": "name 'results' is not defined",
          "traceback": [
            "\u001b[0;31m---------------------------------------------------------------------------\u001b[0m",
            "\u001b[0;31mNameError\u001b[0m                                 Traceback (most recent call last)",
            "\u001b[0;32m<ipython-input-3-51f832b99250>\u001b[0m in \u001b[0;36m<cell line: 0>\u001b[0;34m()\u001b[0m\n\u001b[1;32m      1\u001b[0m \u001b[0mprint\u001b[0m\u001b[0;34m(\u001b[0m\u001b[0;34m\"GitHub Commit Log:\"\u001b[0m\u001b[0;34m)\u001b[0m\u001b[0;34m\u001b[0m\u001b[0;34m\u001b[0m\u001b[0m\n\u001b[0;32m----> 2\u001b[0;31m \u001b[0mprint\u001b[0m\u001b[0;34m(\u001b[0m\u001b[0mresults\u001b[0m\u001b[0;34m[\u001b[0m\u001b[0;34m'git_log'\u001b[0m\u001b[0;34m]\u001b[0m\u001b[0;34m)\u001b[0m\u001b[0;34m\u001b[0m\u001b[0;34m\u001b[0m\u001b[0m\n\u001b[0m",
            "\u001b[0;31mNameError\u001b[0m: name 'results' is not defined"
          ]
        }
      ]
    },
    {
      "cell_type": "markdown",
      "source": [
        "###Stage 1 - Data Cleaning and Statistics"
      ],
      "metadata": {
        "id": "CDCWp3PFeIFC"
      }
    },
    {
      "cell_type": "code",
      "source": [
        "# Cleaned Data\n",
        "print(\"\\nCleaned Dataframe Head:\")\n",
        "print(results['clean_data'].head())\n",
        "\n",
        "\n",
        "# Manual vs Pandas Stats\n",
        "print(\"\\nManual Statistics:\")\n",
        "for col, stats in results['manual_stats'].items():\n",
        "    print(f\"{col}:{stats}\")\n",
        "\n",
        "print(\"\\nPandas Statistics:\")\n",
        "print(results['pandas_stats'])\n",
        "\n",
        "#Identify Duplicates\n",
        "print(f\"\\nDuplicates found:{results['duplicates'][0]}, Count:{results['duplicates'][1]}\")"
      ],
      "metadata": {
        "id": "hgXutktqeRwL"
      },
      "execution_count": null,
      "outputs": []
    },
    {
      "cell_type": "markdown",
      "source": [
        "###Stage 2 - Space & Time Complexity Analysis"
      ],
      "metadata": {
        "id": "Sjmg-_hchlO1"
      }
    },
    {
      "cell_type": "code",
      "source": [
        "complexity_results, sizes = results['complexity']\n",
        "\n",
        "\n",
        "plt.figure(figsize=(12, 4))\n",
        "\n",
        "#Plot Matrix Multiplication Time Complexity\n",
        "plt.subplot(1, 2, 1)\n",
        "plt.scatter(sizes, complexity_results['matrix_mult']['time'])\n",
        "plt.title('Matrix Multiplication Time Complexity')\n",
        "plt.xlabel('Input Size')\n",
        "plt.ylabel('Time (s)')\n",
        "\n",
        "#Plot Inneficient Integer Sort\n",
        "plt.subplot(1, 2, 2)\n",
        "plt.scatter(sizes, complexity_results['integer_sort']['time'])\n",
        "plt.title('Inefficient Integer Sort Time Complexity')\n",
        "plt.xlabel('Input Size')\n",
        "plt.ylabel('Time (s)')\n",
        "\n",
        "plt.tight_layout()\n",
        "plt.show()\n",
        "\n",
        "#String Search Comparison\n",
        "print(f\"Python find():{complexity_results['string_search']['str_find_time']}\")\n",
        "print(f\"Manual search:{complexity_results['string_search']['manual_find_time']}\")\n",
        "\n",
        "\n"
      ],
      "metadata": {
        "id": "LDQWle2DiJST"
      },
      "execution_count": null,
      "outputs": []
    }
  ]
}