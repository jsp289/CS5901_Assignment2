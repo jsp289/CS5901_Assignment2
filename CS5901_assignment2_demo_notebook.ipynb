{
  "nbformat": 4,
  "nbformat_minor": 0,
  "metadata": {
    "colab": {
      "provenance": [],
      "authorship_tag": "ABX9TyPND4PzR67gXX9u3ch0JwF1"
    },
    "kernelspec": {
      "name": "python3",
      "display_name": "Python 3"
    },
    "language_info": {
      "name": "python"
    }
  },
  "cells": [
    {
      "cell_type": "markdown",
      "source": [
        "# **CS5901 - Assignment 2 - Notebook for Demo**\n",
        "*This CS5901_assignment2_demo_notebook.ipynb file coordinates function calls by invoking the Assignment_2_Unified_Pyfile.py file for the following stages with GitHub version control:*\n",
        "\n",
        "1.   Stage 0 - Version Control and Fetching GitHub Commit Log\n",
        "2.   Stage 1 - Loading CSV into Pandas DataFrame, Cleaning Data, and Basic Stats\n",
        "3.   Stage 2 - Calculating the Space-Time Complexity of Several Algorithms"
      ],
      "metadata": {
        "id": "lHXNm_d0aM2s"
      }
    },
    {
      "cell_type": "code",
      "metadata": {
        "id": "69b06a15"
      },
      "source": [
        "import requests\n",
        "import re\n",
        "import os\n",
        "import sys\n",
        "\n",
        "def run_assignment_demo(csv_url, git_repo_url, python_file_url=\"https://raw.githubusercontent.com/jsp289/CS5901_Assignment2/refs/heads/main/Assignment_2_Unified_Pyfile.py\", python_file_name=\"Assignment_2_Unified_Pyfile.py\"):\n",
        "    \"\"\"\n",
        "    Downloads the specified Python file, corrects boolean values, and runs the main_run_demo function.\n",
        "\n",
        "    Args:\n",
        "        csv_url (str): URL of the CSV data file.\n",
        "        git_repo_url (str): URL of the Git repository.\n",
        "        python_file_url (str): URL of the Python file to download.\n",
        "        python_file_name (str): Local name to save the Python file as.\n",
        "    \"\"\"\n",
        "    # Download the Python file\n",
        "    response = requests.get(python_file_url)\n",
        "    if response.status_code == 200:\n",
        "        with open(python_file_name, 'w') as f:\n",
        "            f.write(response.text)\n",
        "        print(f\"File downloaded and saved as {python_file_name}\")\n",
        "\n",
        "        # Correct boolean values in the downloaded file\n",
        "        try:\n",
        "            with open(python_file_name, 'r') as f:\n",
        "                file_content = f.read()\n",
        "\n",
        "            corrected_content = re.sub(r'\\b(true|false)\\b', lambda match: match.group(0).capitalize(), file_content)\n",
        "\n",
        "            with open(python_file_name, 'w') as f:\n",
        "                f.write(corrected_content)\n",
        "            print(f\"Corrected boolean values in {python_file_name}\")\n",
        "\n",
        "        except Exception as e:\n",
        "            print(f\"Error correcting boolean values: {e}\")\n",
        "\n",
        "\n",
        "        # Add the directory of the downloaded file to the system path\n",
        "        # This might be needed if the file is not in the default import path\n",
        "        file_dir = os.path.dirname(os.path.abspath(__file__)) if '__file__' in locals() else os.getcwd()\n",
        "        if file_dir not in sys.path:\n",
        "            sys.path.append(file_dir)\n",
        "\n",
        "        # Import and run the main_run_demo function\n",
        "        try:\n",
        "            from Assignment_2_Unified_Pyfile_py import main_run_demo\n",
        "            print(f\"Running main_run_demo with csv_url: {csv_url} and git_repo_url: {git_repo_url}\")\n",
        "            results = main_run_demo(csv_url, git_repo_url)\n",
        "            print(\"main_run_demo completed.\")\n",
        "            # You can return or process results here if needed\n",
        "            return results\n",
        "        except ImportError:\n",
        "            print(f\"Error: Could not import main_run_demo from {python_file_name}. Make sure the function name is correct.\")\n",
        "        except NameError:\n",
        "             print(f\"Error: NameError likely due to incorrect boolean values. Please ensure they are 'True'/'False'.\")\n",
        "        except Exception as e:\n",
        "            print(f\"An unexpected error occurred during the execution of main_run_demo: {e}\")\n",
        "\n",
        "    else:\n",
        "        print(f\"Failed to retrieve Python file from {python_file_url}. Status code: {response.status_code}\")"
      ],
      "execution_count": 33,
      "outputs": []
    },
    {
      "cell_type": "code",
      "metadata": {
        "colab": {
          "base_uri": "https://localhost:8080/"
        },
        "id": "d7981595",
        "outputId": "26c5b8b3-fcb7-411d-a24f-ff577b0f9ac0"
      },
      "source": [
        "csv_data_url = 'https://raw.githubusercontent.com/jsp289/CS5901_Assignment2/refs/heads/main/P2data6332.csv'\n",
        "git_repository_url = 'https://github.com/jsp289/CS5901_Assignment2.git'\n",
        "\n",
        "results = run_assignment_demo(csv_data_url, git_repository_url)\n",
        "\n",
        "# You can now access the results returned by main_run_demo if needed\n",
        "# For example, to print the git log:\n",
        "# if results and 'git_log' in results:\n",
        "#    print(\"\\nGitHub Commit Log:\")\n",
        "#    print(results['git_log'])"
      ],
      "execution_count": 34,
      "outputs": [
        {
          "output_type": "stream",
          "name": "stdout",
          "text": [
            "File downloaded and saved as Assignment_2_Unified_Pyfile.py\n",
            "Corrected boolean values in Assignment_2_Unified_Pyfile.py\n",
            "Error: Could not import main_run_demo from Assignment_2_Unified_Pyfile.py. Make sure the function name is correct.\n"
          ]
        }
      ]
    },
    {
      "cell_type": "markdown",
      "source": [
        "###Stage 0 - Version Control & GitHub Commit Log\n",
        "\n"
      ],
      "metadata": {
        "id": "ss6q_9ordcGI"
      }
    },
    {
      "cell_type": "code",
      "source": [
        "print(\"GitHub Commit Log:\")\n",
        "print(results['git_log'])"
      ],
      "metadata": {
        "id": "E54Tc39ed5dL",
        "colab": {
          "base_uri": "https://localhost:8080/",
          "height": 176
        },
        "outputId": "4b2f6019-343c-459c-8e9c-692f5b733dfa"
      },
      "execution_count": 35,
      "outputs": [
        {
          "output_type": "stream",
          "name": "stdout",
          "text": [
            "GitHub Commit Log:\n"
          ]
        },
        {
          "output_type": "error",
          "ename": "TypeError",
          "evalue": "'NoneType' object is not subscriptable",
          "traceback": [
            "\u001b[0;31m---------------------------------------------------------------------------\u001b[0m",
            "\u001b[0;31mTypeError\u001b[0m                                 Traceback (most recent call last)",
            "\u001b[0;32m<ipython-input-35-51f832b99250>\u001b[0m in \u001b[0;36m<cell line: 0>\u001b[0;34m()\u001b[0m\n\u001b[1;32m      1\u001b[0m \u001b[0mprint\u001b[0m\u001b[0;34m(\u001b[0m\u001b[0;34m\"GitHub Commit Log:\"\u001b[0m\u001b[0;34m)\u001b[0m\u001b[0;34m\u001b[0m\u001b[0;34m\u001b[0m\u001b[0m\n\u001b[0;32m----> 2\u001b[0;31m \u001b[0mprint\u001b[0m\u001b[0;34m(\u001b[0m\u001b[0mresults\u001b[0m\u001b[0;34m[\u001b[0m\u001b[0;34m'git_log'\u001b[0m\u001b[0;34m]\u001b[0m\u001b[0;34m)\u001b[0m\u001b[0;34m\u001b[0m\u001b[0;34m\u001b[0m\u001b[0m\n\u001b[0m",
            "\u001b[0;31mTypeError\u001b[0m: 'NoneType' object is not subscriptable"
          ]
        }
      ]
    },
    {
      "cell_type": "markdown",
      "source": [
        "###Stage 1 - Data Cleaning and Statistics"
      ],
      "metadata": {
        "id": "CDCWp3PFeIFC"
      }
    },
    {
      "cell_type": "code",
      "source": [
        "# Cleaned Data\n",
        "print(\"\\nCleaned Dataframe Head:\")\n",
        "print(results['clean_data'].head())\n",
        "\n",
        "\n",
        "# Manual vs Pandas Stats\n",
        "print(\"\\nManual Statistics:\")\n",
        "for col, stats in results['manual_stats'].items():\n",
        "    print(f\"{col}:{stats}\")\n",
        "\n",
        "print(\"\\nPandas Statistics:\")\n",
        "print(results['pandas_stats'])\n",
        "\n",
        "#Identify Duplicates\n",
        "print(f\"\\nDuplicates found:{results['duplicates'][0]}, Count:{results['duplicates'][1]}\")"
      ],
      "metadata": {
        "id": "hgXutktqeRwL"
      },
      "execution_count": null,
      "outputs": []
    },
    {
      "cell_type": "markdown",
      "source": [
        "###Stage 2 - Space & Time Complexity Analysis"
      ],
      "metadata": {
        "id": "Sjmg-_hchlO1"
      }
    },
    {
      "cell_type": "code",
      "source": [
        "complexity_results, sizes = results['complexity']\n",
        "\n",
        "\n",
        "plt.figure(figsize=(12, 4))\n",
        "\n",
        "#Plot Matrix Multiplication Time Complexity\n",
        "plt.subplot(1, 2, 1)\n",
        "plt.scatter(sizes, complexity_results['matrix_mult']['time'])\n",
        "plt.title('Matrix Multiplication Time Complexity')\n",
        "plt.xlabel('Input Size')\n",
        "plt.ylabel('Time (s)')\n",
        "\n",
        "#Plot Inneficient Integer Sort\n",
        "plt.subplot(1, 2, 2)\n",
        "plt.scatter(sizes, complexity_results['integer_sort']['time'])\n",
        "plt.title('Inefficient Integer Sort Time Complexity')\n",
        "plt.xlabel('Input Size')\n",
        "plt.ylabel('Time (s)')\n",
        "\n",
        "plt.tight_layout()\n",
        "plt.show()\n",
        "\n",
        "#String Search Comparison\n",
        "print(f\"Python find():{complexity_results['string_search']['str_find_time']}\")\n",
        "print(f\"Manual search:{complexity_results['string_search']['manual_find_time']}\")\n",
        "\n",
        "\n"
      ],
      "metadata": {
        "id": "LDQWle2DiJST"
      },
      "execution_count": null,
      "outputs": []
    }
  ]
}